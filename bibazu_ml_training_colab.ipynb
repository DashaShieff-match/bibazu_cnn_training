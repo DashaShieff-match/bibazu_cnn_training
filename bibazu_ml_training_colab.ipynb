{
  "cells": [
    {
      "cell_type": "code",
      "execution_count": 1,
      "metadata": {
        "colab": {
          "base_uri": "https://localhost:8080/"
        },
        "id": "cX40CBaH_5h-",
        "outputId": "0116ec27-c4f2-449b-afc5-5ceff94fb8cb"
      },
      "outputs": [
        {
          "name": "stdout",
          "output_type": "stream",
          "text": [
            "Cloning into 'bibazu_example_data'...\n",
            "remote: Enumerating objects: 186, done.\u001b[K\n",
            "remote: Total 186 (delta 0), reused 0 (delta 0), pack-reused 186\u001b[K\n",
            "Receiving objects: 100% (186/186), 34.40 MiB | 14.08 MiB/s, done.\n"
          ]
        }
      ],
      "source": [
        "# load example data from github\n",
        "!git clone https://github.com/match-Aero/bibazu_example_data.git"
      ]
    },
    {
      "cell_type": "code",
      "execution_count": 2,
      "metadata": {
        "id": "eoRlgguU_e_x"
      },
      "outputs": [],
      "source": [
        "import matplotlib.pyplot as plt\n",
        "import numpy as np\n",
        "from tkinter import filedialog as fd\n",
        "import os\n",
        "\n",
        "import tensorflow as tf\n",
        "from tensorflow import keras\n",
        "from keras import layers\n",
        "\n",
        "from sklearn.metrics import confusion_matrix\n",
        "from sklearn.metrics import ConfusionMatrixDisplay\n"
      ]
    },
    {
      "cell_type": "code",
      "execution_count": 3,
      "metadata": {
        "id": "DkJIZnP4_e_y"
      },
      "outputs": [],
      "source": [
        "\n",
        "%load_ext tensorboard\n",
        "\n",
        "import datetime\n",
        "\n",
        "log_dir = \"logs/fit/\" + datetime.datetime.now().strftime(\"%Y%m%d-%H%M%S\")\n",
        "tensorboard_callback = tf.keras.callbacks.TensorBoard(log_dir=log_dir, histogram_freq=1)\n"
      ]
    },
    {
      "cell_type": "code",
      "execution_count": 4,
      "metadata": {
        "id": "RtXg2d1C_e_z"
      },
      "outputs": [],
      "source": [
        "#function to plot 9 samples from dataset\n",
        "def plot_samples(dataset,title):\n",
        "    plt.figure(figsize=(5, 5))\n",
        "    plt.suptitle(title)\n",
        "    for images, labels in dataset.take(1):\n",
        "        for i in range(9):\n",
        "            ax = plt.subplot(3, 3, i + 1)\n",
        "            plt.imshow(images[i].numpy().astype(\"uint8\"))\n",
        "            plt.title(int(np.argmax(labels[i])))\n",
        "            plt.axis(\"off\")"
      ]
    },
    {
      "cell_type": "code",
      "execution_count": 5,
      "metadata": {
        "id": "HfRMFf2a_e_z"
      },
      "outputs": [],
      "source": [
        "#standard paths\n",
        "synthetic_ds_path = \"bibazu_example_data/dataset/Rk2i_synthetic/\"\n",
        "real_ds_path = \"bibazu_example_data/dataset/Rk2i_real/\""
      ]
    },
    {
      "cell_type": "code",
      "execution_count": 6,
      "metadata": {
        "colab": {
          "base_uri": "https://localhost:8080/"
        },
        "id": "nHh8oOc1_e_0",
        "outputId": "f2cf49fb-3eb2-4d00-ed0e-5decb5d800c2"
      },
      "outputs": [
        {
          "name": "stdout",
          "output_type": "stream",
          "text": [
            "Found 80 files belonging to 4 classes.\n",
            "Using 64 files for training.\n",
            "Found 80 files belonging to 4 classes.\n",
            "Using 16 files for validation.\n",
            "Found 80 files belonging to 4 classes.\n"
          ]
        }
      ],
      "source": [
        "#load images into batched dataset objects\n",
        "\n",
        "#dataset parameters\n",
        "img_height = 224\n",
        "img_width = 224\n",
        "validation_split = 0.2\n",
        "\n",
        "train_batch_size = 20\n",
        "val_batch_size = 5\n",
        "test_batch_size = 1\n",
        "\n",
        "#synthetic dataset for training and validation\n",
        "train_ds = keras.preprocessing.image_dataset_from_directory(\n",
        "    directory=synthetic_ds_path,\n",
        "    labels='inferred',\n",
        "    label_mode='categorical',\n",
        "    batch_size=train_batch_size,\n",
        "    validation_split = validation_split,\n",
        "    subset = 'training',\n",
        "    seed = 10,\n",
        "    color_mode = 'rgb',\n",
        "    #shuffle = False,\n",
        "    image_size=(img_height, img_width))\n",
        "\n",
        "val_ds = keras.preprocessing.image_dataset_from_directory(\n",
        "    directory=synthetic_ds_path,\n",
        "    labels='inferred',\n",
        "    label_mode='categorical',\n",
        "    batch_size=val_batch_size,\n",
        "    validation_split = validation_split,\n",
        "    subset = 'validation',\n",
        "    seed = 10,\n",
        "    color_mode = 'rgb',\n",
        "    #shuffle = False,\n",
        "    image_size=(img_height, img_width))\n",
        "\n",
        "#real dataset for testing trained model\n",
        "test_ds = keras.preprocessing.image_dataset_from_directory(\n",
        "    directory=real_ds_path,\n",
        "    labels='inferred',\n",
        "    label_mode='categorical',\n",
        "    batch_size=test_batch_size,\n",
        "    color_mode = 'rgb',\n",
        "    shuffle = False,\n",
        "    image_size=(img_height, img_width))\n",
        "\n",
        "#plot_samples(train_ds,\"pre-augmentation\")"
      ]
    },
    {
      "cell_type": "code",
      "execution_count": 7,
      "metadata": {
        "id": "ZeKw1vUn_e_1"
      },
      "outputs": [],
      "source": [
        "#get number of classes for output layer size\n",
        "dataset_labels = train_ds.class_names\n",
        "num_classes = len(dataset_labels)\n"
      ]
    },
    {
      "cell_type": "code",
      "execution_count": 8,
      "metadata": {
        "id": "Di3BZhaz_e_1"
      },
      "outputs": [],
      "source": [
        "train_ds = train_ds.prefetch(buffer_size=tf.data.experimental.AUTOTUNE)\n",
        "test_ds = test_ds.prefetch(buffer_size=tf.data.experimental.AUTOTUNE)\n",
        "val_ds = val_ds.prefetch(buffer_size=tf.data.experimental.AUTOTUNE)"
      ]
    },
    {
      "cell_type": "code",
      "execution_count": 9,
      "metadata": {
        "id": "j5QH9t2e_e_1"
      },
      "outputs": [],
      "source": [
        "#augmentations\n",
        "#augmentations can also be added as layer to the model, it is then performed by the GPU\n",
        "\n",
        "#define augmentation set\n",
        "data_augmentation = keras.Sequential([\n",
        "        layers.RandomRotation(0.025),\n",
        "        layers.RandomBrightness(0.4),\n",
        "        layers.RandomContrast(0.2),\n",
        "        layers.RandomTranslation(0.1,0.1),\n",
        "        layers.RandomZoom(0.1)\n",
        "        ])\n",
        "\n",
        "#apply augmentation set to training dataset\n",
        "train_ds_augmentend = train_ds.map(\n",
        "    lambda img, label: (data_augmentation(img), label),\n",
        "    num_parallel_calls=tf.data.AUTOTUNE)\n",
        "\n",
        "#plot_samples(train_ds_augmentend,\"augmented\")"
      ]
    },
    {
      "cell_type": "code",
      "execution_count": 10,
      "metadata": {
        "id": "_LOgMR3u_e_2"
      },
      "outputs": [],
      "source": [
        "normalization_layer = layers.Rescaling(1./255)\n",
        "train_ds_augmentend = train_ds_augmentend.map(lambda x, y: (normalization_layer(x), y))\n",
        "val_ds = val_ds.map(lambda x, y: (normalization_layer(x), y))\n",
        "test_ds = test_ds.map(lambda x, y: (normalization_layer(x), y))\n",
        "\n",
        "#plot_samples(train_ds_augmentend,\"augmented\")"
      ]
    },
    {
      "cell_type": "code",
      "execution_count": 11,
      "metadata": {
        "colab": {
          "base_uri": "https://localhost:8080/"
        },
        "id": "TApp5lky_e_3",
        "outputId": "76022f46-d42c-478f-9247-bb6629d1643a"
      },
      "outputs": [
        {
          "name": "stdout",
          "output_type": "stream",
          "text": [
            "Downloading data from https://storage.googleapis.com/tensorflow/keras-applications/mobilenet/mobilenet_1_0_224_tf.h5\n",
            "17225924/17225924 [==============================] - 0s 0us/step\n"
          ]
        }
      ],
      "source": [
        "#load an empty MobileNet model\n",
        "model = keras.applications.mobilenet.MobileNet()\n",
        "\n",
        "#remove last 4 layers (determined in fine tuning)\n",
        "x = model.layers[-5].output\n",
        "\n",
        "#set proper size for last layer\n",
        "x = tf.keras.layers.Reshape(target_shape=(1024,))(x)\n",
        "\n",
        "#add dense-layer as output\n",
        "output = tf.keras.layers.Dense(units=num_classes, activation='softmax')(x)\n",
        "\n",
        "#set input and output layers\n",
        "model = keras.models.Model(inputs=model.input, outputs=output)\n",
        "\n",
        "#compile model, set learning parameters\n",
        "model.compile(optimizer=tf.keras.optimizers.Adam(learning_rate=0.00001), loss='categorical_crossentropy', metrics=['accuracy'])"
      ]
    },
    {
      "cell_type": "code",
      "execution_count": 12,
      "metadata": {
        "colab": {
          "base_uri": "https://localhost:8080/"
        },
        "id": "HT1mevI__e_3",
        "outputId": "2940a8b2-7f5a-4d0d-a499-82190e7c32d0"
      },
      "outputs": [
        {
          "name": "stdout",
          "output_type": "stream",
          "text": [
            "Epoch 1/200\n",
            "4/4 - 30s - loss: 1.9707 - accuracy: 0.2969 - val_loss: 1.5590 - val_accuracy: 0.1875 - 30s/epoch - 7s/step\n",
            "Epoch 2/200\n",
            "4/4 - 1s - loss: 1.7462 - accuracy: 0.3750 - val_loss: 1.5002 - val_accuracy: 0.1875 - 1s/epoch - 253ms/step\n",
            "Epoch 3/200\n",
            "4/4 - 1s - loss: 1.7707 - accuracy: 0.2188 - val_loss: 1.4703 - val_accuracy: 0.1875 - 944ms/epoch - 236ms/step\n",
            "Epoch 4/200\n",
            "4/4 - 2s - loss: 1.6506 - accuracy: 0.3438 - val_loss: 1.4551 - val_accuracy: 0.1250 - 2s/epoch - 382ms/step\n",
            "Epoch 5/200\n",
            "4/4 - 1s - loss: 1.5688 - accuracy: 0.4062 - val_loss: 1.4395 - val_accuracy: 0.1875 - 1s/epoch - 350ms/step\n",
            "Epoch 6/200\n",
            "4/4 - 1s - loss: 1.5016 - accuracy: 0.4219 - val_loss: 1.4221 - val_accuracy: 0.1250 - 974ms/epoch - 243ms/step\n",
            "Epoch 7/200\n",
            "4/4 - 1s - loss: 1.5087 - accuracy: 0.4219 - val_loss: 1.3844 - val_accuracy: 0.1250 - 935ms/epoch - 234ms/step\n",
            "Epoch 8/200\n",
            "4/4 - 1s - loss: 1.3258 - accuracy: 0.4219 - val_loss: 1.3525 - val_accuracy: 0.3125 - 972ms/epoch - 243ms/step\n",
            "Epoch 9/200\n",
            "4/4 - 1s - loss: 1.2188 - accuracy: 0.4844 - val_loss: 1.3037 - val_accuracy: 0.3750 - 968ms/epoch - 242ms/step\n",
            "Epoch 10/200\n",
            "4/4 - 1s - loss: 1.2139 - accuracy: 0.4531 - val_loss: 1.2599 - val_accuracy: 0.5000 - 951ms/epoch - 238ms/step\n",
            "Epoch 11/200\n",
            "4/4 - 1s - loss: 1.1290 - accuracy: 0.5469 - val_loss: 1.2309 - val_accuracy: 0.5000 - 969ms/epoch - 242ms/step\n",
            "Epoch 12/200\n",
            "4/4 - 1s - loss: 1.0849 - accuracy: 0.5000 - val_loss: 1.2127 - val_accuracy: 0.5625 - 933ms/epoch - 233ms/step\n",
            "Epoch 13/200\n",
            "4/4 - 1s - loss: 1.1243 - accuracy: 0.5781 - val_loss: 1.1855 - val_accuracy: 0.5625 - 916ms/epoch - 229ms/step\n",
            "Epoch 14/200\n",
            "4/4 - 1s - loss: 1.0098 - accuracy: 0.5781 - val_loss: 1.1614 - val_accuracy: 0.5625 - 1s/epoch - 284ms/step\n",
            "Epoch 15/200\n",
            "4/4 - 2s - loss: 0.9363 - accuracy: 0.6250 - val_loss: 1.1422 - val_accuracy: 0.5625 - 2s/epoch - 456ms/step\n",
            "Epoch 16/200\n",
            "4/4 - 1s - loss: 0.9356 - accuracy: 0.5781 - val_loss: 1.1292 - val_accuracy: 0.5625 - 1s/epoch - 356ms/step\n",
            "Epoch 17/200\n",
            "4/4 - 1s - loss: 0.8473 - accuracy: 0.7500 - val_loss: 1.1259 - val_accuracy: 0.5625 - 1s/epoch - 253ms/step\n",
            "Epoch 18/200\n",
            "4/4 - 1s - loss: 0.8274 - accuracy: 0.7188 - val_loss: 1.1291 - val_accuracy: 0.5625 - 946ms/epoch - 236ms/step\n",
            "Epoch 19/200\n",
            "4/4 - 1s - loss: 0.7071 - accuracy: 0.7812 - val_loss: 1.1428 - val_accuracy: 0.5000 - 965ms/epoch - 241ms/step\n",
            "Epoch 20/200\n",
            "4/4 - 1s - loss: 0.7337 - accuracy: 0.7500 - val_loss: 1.1466 - val_accuracy: 0.5000 - 952ms/epoch - 238ms/step\n",
            "Epoch 21/200\n",
            "4/4 - 1s - loss: 0.7935 - accuracy: 0.7500 - val_loss: 1.1424 - val_accuracy: 0.5000 - 1s/epoch - 329ms/step\n",
            "Epoch 22/200\n",
            "4/4 - 1s - loss: 0.6634 - accuracy: 0.7656 - val_loss: 1.1409 - val_accuracy: 0.4375 - 975ms/epoch - 244ms/step\n",
            "Epoch 23/200\n",
            "4/4 - 1s - loss: 0.6380 - accuracy: 0.8594 - val_loss: 1.1315 - val_accuracy: 0.5000 - 941ms/epoch - 235ms/step\n",
            "Epoch 24/200\n",
            "4/4 - 1s - loss: 0.5976 - accuracy: 0.8906 - val_loss: 1.1155 - val_accuracy: 0.5000 - 908ms/epoch - 227ms/step\n",
            "Epoch 25/200\n",
            "4/4 - 1s - loss: 0.6032 - accuracy: 0.8438 - val_loss: 1.0983 - val_accuracy: 0.5000 - 900ms/epoch - 225ms/step\n",
            "Epoch 26/200\n",
            "4/4 - 1s - loss: 0.5786 - accuracy: 0.8438 - val_loss: 1.0739 - val_accuracy: 0.5000 - 923ms/epoch - 231ms/step\n",
            "Epoch 27/200\n",
            "4/4 - 1s - loss: 0.5383 - accuracy: 0.8594 - val_loss: 1.0556 - val_accuracy: 0.5000 - 928ms/epoch - 232ms/step\n",
            "Epoch 28/200\n",
            "4/4 - 1s - loss: 0.5379 - accuracy: 0.8438 - val_loss: 1.0383 - val_accuracy: 0.5000 - 916ms/epoch - 229ms/step\n",
            "Epoch 29/200\n",
            "4/4 - 1s - loss: 0.6261 - accuracy: 0.8906 - val_loss: 1.0255 - val_accuracy: 0.5000 - 898ms/epoch - 225ms/step\n",
            "Epoch 30/200\n",
            "4/4 - 1s - loss: 0.3874 - accuracy: 0.9375 - val_loss: 1.0152 - val_accuracy: 0.5000 - 1s/epoch - 263ms/step\n",
            "Epoch 31/200\n",
            "4/4 - 2s - loss: 0.4956 - accuracy: 0.9219 - val_loss: 0.9969 - val_accuracy: 0.5000 - 2s/epoch - 397ms/step\n",
            "Epoch 32/200\n",
            "4/4 - 1s - loss: 0.4318 - accuracy: 0.9219 - val_loss: 0.9763 - val_accuracy: 0.5000 - 1s/epoch - 253ms/step\n",
            "Epoch 33/200\n",
            "4/4 - 1s - loss: 0.4462 - accuracy: 0.8906 - val_loss: 0.9556 - val_accuracy: 0.5000 - 966ms/epoch - 242ms/step\n",
            "Epoch 34/200\n",
            "4/4 - 1s - loss: 0.4716 - accuracy: 0.8750 - val_loss: 0.9270 - val_accuracy: 0.5000 - 948ms/epoch - 237ms/step\n",
            "Epoch 35/200\n",
            "4/4 - 1s - loss: 0.4489 - accuracy: 0.8906 - val_loss: 0.8980 - val_accuracy: 0.5000 - 952ms/epoch - 238ms/step\n",
            "Epoch 36/200\n",
            "4/4 - 1s - loss: 0.3389 - accuracy: 0.9375 - val_loss: 0.8612 - val_accuracy: 0.5000 - 946ms/epoch - 236ms/step\n",
            "Epoch 37/200\n",
            "4/4 - 1s - loss: 0.4021 - accuracy: 0.9375 - val_loss: 0.8277 - val_accuracy: 0.5625 - 962ms/epoch - 240ms/step\n",
            "Epoch 38/200\n",
            "4/4 - 1s - loss: 0.3799 - accuracy: 0.9375 - val_loss: 0.7956 - val_accuracy: 0.5625 - 979ms/epoch - 245ms/step\n",
            "Epoch 39/200\n",
            "4/4 - 1s - loss: 0.3418 - accuracy: 0.9375 - val_loss: 0.7693 - val_accuracy: 0.5625 - 965ms/epoch - 241ms/step\n",
            "Epoch 40/200\n",
            "4/4 - 1s - loss: 0.3177 - accuracy: 0.9375 - val_loss: 0.7446 - val_accuracy: 0.6250 - 1s/epoch - 325ms/step\n",
            "Epoch 41/200\n",
            "4/4 - 1s - loss: 0.3708 - accuracy: 0.9219 - val_loss: 0.7260 - val_accuracy: 0.6875 - 1s/epoch - 372ms/step\n",
            "Epoch 42/200\n",
            "4/4 - 1s - loss: 0.2786 - accuracy: 0.9688 - val_loss: 0.7058 - val_accuracy: 0.6875 - 973ms/epoch - 243ms/step\n",
            "Epoch 43/200\n",
            "4/4 - 1s - loss: 0.3712 - accuracy: 0.9062 - val_loss: 0.6875 - val_accuracy: 0.6875 - 969ms/epoch - 242ms/step\n",
            "Epoch 44/200\n",
            "4/4 - 1s - loss: 0.3977 - accuracy: 0.9375 - val_loss: 0.6756 - val_accuracy: 0.6875 - 953ms/epoch - 238ms/step\n",
            "Epoch 45/200\n",
            "4/4 - 1s - loss: 0.4199 - accuracy: 0.9062 - val_loss: 0.6596 - val_accuracy: 0.6875 - 949ms/epoch - 237ms/step\n",
            "Epoch 46/200\n",
            "4/4 - 1s - loss: 0.3896 - accuracy: 0.8906 - val_loss: 0.6442 - val_accuracy: 0.7500 - 953ms/epoch - 238ms/step\n",
            "Epoch 47/200\n",
            "4/4 - 1s - loss: 0.3445 - accuracy: 0.9531 - val_loss: 0.6236 - val_accuracy: 0.7500 - 964ms/epoch - 241ms/step\n",
            "Epoch 48/200\n",
            "4/4 - 1s - loss: 0.2653 - accuracy: 0.9375 - val_loss: 0.5965 - val_accuracy: 0.7500 - 981ms/epoch - 245ms/step\n",
            "Epoch 49/200\n",
            "4/4 - 1s - loss: 0.2797 - accuracy: 0.9531 - val_loss: 0.5656 - val_accuracy: 0.7500 - 958ms/epoch - 240ms/step\n",
            "Epoch 50/200\n",
            "4/4 - 1s - loss: 0.4360 - accuracy: 0.8750 - val_loss: 0.5381 - val_accuracy: 0.9375 - 1s/epoch - 289ms/step\n",
            "Epoch 51/200\n",
            "4/4 - 1s - loss: 0.2293 - accuracy: 0.9844 - val_loss: 0.5151 - val_accuracy: 0.9375 - 1s/epoch - 252ms/step\n",
            "Epoch 52/200\n",
            "4/4 - 1s - loss: 0.2481 - accuracy: 0.9531 - val_loss: 0.4939 - val_accuracy: 0.9375 - 1s/epoch - 252ms/step\n",
            "Epoch 53/200\n",
            "4/4 - 1s - loss: 0.3616 - accuracy: 0.9375 - val_loss: 0.4749 - val_accuracy: 0.9375 - 994ms/epoch - 249ms/step\n",
            "Epoch 54/200\n",
            "4/4 - 1s - loss: 0.2158 - accuracy: 0.9844 - val_loss: 0.4607 - val_accuracy: 0.9375 - 984ms/epoch - 246ms/step\n",
            "Epoch 55/200\n",
            "4/4 - 1s - loss: 0.2174 - accuracy: 0.9375 - val_loss: 0.4388 - val_accuracy: 0.9375 - 969ms/epoch - 242ms/step\n",
            "Epoch 56/200\n",
            "4/4 - 1s - loss: 0.2331 - accuracy: 0.9375 - val_loss: 0.4163 - val_accuracy: 0.9375 - 949ms/epoch - 237ms/step\n",
            "Epoch 57/200\n",
            "4/4 - 1s - loss: 0.2589 - accuracy: 0.9219 - val_loss: 0.3960 - val_accuracy: 0.9375 - 971ms/epoch - 243ms/step\n",
            "Epoch 58/200\n",
            "4/4 - 1s - loss: 0.3081 - accuracy: 0.9062 - val_loss: 0.3827 - val_accuracy: 0.9375 - 983ms/epoch - 246ms/step\n",
            "Epoch 59/200\n",
            "4/4 - 1s - loss: 0.2837 - accuracy: 0.9062 - val_loss: 0.3712 - val_accuracy: 0.9375 - 980ms/epoch - 245ms/step\n",
            "Epoch 60/200\n",
            "4/4 - 2s - loss: 0.1722 - accuracy: 0.9844 - val_loss: 0.3594 - val_accuracy: 0.9375 - 2s/epoch - 386ms/step\n",
            "Epoch 61/200\n",
            "4/4 - 1s - loss: 0.2173 - accuracy: 0.9688 - val_loss: 0.3469 - val_accuracy: 0.9375 - 961ms/epoch - 240ms/step\n",
            "Epoch 62/200\n",
            "4/4 - 1s - loss: 0.1701 - accuracy: 1.0000 - val_loss: 0.3303 - val_accuracy: 0.9375 - 952ms/epoch - 238ms/step\n",
            "Epoch 63/200\n",
            "4/4 - 1s - loss: 0.2197 - accuracy: 0.9219 - val_loss: 0.3156 - val_accuracy: 0.9375 - 950ms/epoch - 238ms/step\n",
            "Epoch 64/200\n",
            "4/4 - 1s - loss: 0.1638 - accuracy: 0.9844 - val_loss: 0.3045 - val_accuracy: 0.9375 - 939ms/epoch - 235ms/step\n",
            "Epoch 65/200\n",
            "4/4 - 1s - loss: 0.1589 - accuracy: 0.9844 - val_loss: 0.2966 - val_accuracy: 0.9375 - 961ms/epoch - 240ms/step\n",
            "Epoch 66/200\n",
            "4/4 - 1s - loss: 0.2466 - accuracy: 0.9219 - val_loss: 0.2886 - val_accuracy: 0.9375 - 969ms/epoch - 242ms/step\n",
            "Epoch 67/200\n",
            "4/4 - 1s - loss: 0.2396 - accuracy: 0.9375 - val_loss: 0.2816 - val_accuracy: 0.9375 - 976ms/epoch - 244ms/step\n",
            "Epoch 68/200\n",
            "4/4 - 1s - loss: 0.1873 - accuracy: 0.9844 - val_loss: 0.2686 - val_accuracy: 0.9375 - 979ms/epoch - 245ms/step\n",
            "Epoch 69/200\n",
            "4/4 - 1s - loss: 0.2576 - accuracy: 0.9219 - val_loss: 0.2584 - val_accuracy: 0.9375 - 1s/epoch - 339ms/step\n",
            "Epoch 70/200\n",
            "4/4 - 1s - loss: 0.1820 - accuracy: 0.9688 - val_loss: 0.2451 - val_accuracy: 1.0000 - 978ms/epoch - 244ms/step\n",
            "Epoch 71/200\n",
            "4/4 - 2s - loss: 0.1782 - accuracy: 0.9375 - val_loss: 0.2378 - val_accuracy: 1.0000 - 2s/epoch - 381ms/step\n",
            "Epoch 72/200\n",
            "4/4 - 2s - loss: 0.1241 - accuracy: 0.9844 - val_loss: 0.2317 - val_accuracy: 1.0000 - 2s/epoch - 417ms/step\n",
            "Epoch 73/200\n",
            "4/4 - 2s - loss: 0.2167 - accuracy: 0.9219 - val_loss: 0.2282 - val_accuracy: 1.0000 - 2s/epoch - 481ms/step\n",
            "Epoch 74/200\n",
            "4/4 - 2s - loss: 0.1656 - accuracy: 0.9688 - val_loss: 0.2250 - val_accuracy: 1.0000 - 2s/epoch - 433ms/step\n",
            "Epoch 75/200\n",
            "4/4 - 2s - loss: 0.2657 - accuracy: 0.8906 - val_loss: 0.2231 - val_accuracy: 1.0000 - 2s/epoch - 615ms/step\n",
            "Epoch 76/200\n",
            "4/4 - 1s - loss: 0.2326 - accuracy: 0.9219 - val_loss: 0.2218 - val_accuracy: 1.0000 - 965ms/epoch - 241ms/step\n",
            "Epoch 77/200\n",
            "4/4 - 1s - loss: 0.0993 - accuracy: 1.0000 - val_loss: 0.2194 - val_accuracy: 1.0000 - 1s/epoch - 250ms/step\n",
            "Epoch 78/200\n",
            "4/4 - 1s - loss: 0.1506 - accuracy: 0.9688 - val_loss: 0.2195 - val_accuracy: 1.0000 - 951ms/epoch - 238ms/step\n",
            "Epoch 79/200\n",
            "4/4 - 1s - loss: 0.1532 - accuracy: 0.9531 - val_loss: 0.2224 - val_accuracy: 1.0000 - 959ms/epoch - 240ms/step\n",
            "Epoch 80/200\n",
            "4/4 - 1s - loss: 0.1325 - accuracy: 0.9844 - val_loss: 0.2260 - val_accuracy: 1.0000 - 954ms/epoch - 239ms/step\n",
            "Epoch 81/200\n",
            "4/4 - 1s - loss: 0.1285 - accuracy: 1.0000 - val_loss: 0.2279 - val_accuracy: 1.0000 - 970ms/epoch - 243ms/step\n",
            "Epoch 82/200\n",
            "4/4 - 1s - loss: 0.1428 - accuracy: 0.9844 - val_loss: 0.2302 - val_accuracy: 1.0000 - 966ms/epoch - 241ms/step\n",
            "Epoch 83/200\n",
            "4/4 - 1s - loss: 0.1593 - accuracy: 0.9688 - val_loss: 0.2268 - val_accuracy: 1.0000 - 958ms/epoch - 240ms/step\n",
            "Epoch 84/200\n",
            "4/4 - 1s - loss: 0.1678 - accuracy: 0.9375 - val_loss: 0.2226 - val_accuracy: 1.0000 - 1s/epoch - 276ms/step\n",
            "Epoch 85/200\n",
            "4/4 - 1s - loss: 0.1051 - accuracy: 1.0000 - val_loss: 0.2223 - val_accuracy: 1.0000 - 1s/epoch - 364ms/step\n",
            "Epoch 86/200\n",
            "4/4 - 1s - loss: 0.1505 - accuracy: 0.9688 - val_loss: 0.2170 - val_accuracy: 1.0000 - 964ms/epoch - 241ms/step\n",
            "Epoch 87/200\n",
            "4/4 - 1s - loss: 0.1435 - accuracy: 0.9844 - val_loss: 0.2082 - val_accuracy: 1.0000 - 955ms/epoch - 239ms/step\n",
            "Epoch 88/200\n",
            "4/4 - 1s - loss: 0.1380 - accuracy: 0.9688 - val_loss: 0.2034 - val_accuracy: 1.0000 - 977ms/epoch - 244ms/step\n",
            "Epoch 89/200\n",
            "4/4 - 1s - loss: 0.1466 - accuracy: 0.9688 - val_loss: 0.2026 - val_accuracy: 1.0000 - 995ms/epoch - 249ms/step\n",
            "Epoch 90/200\n",
            "4/4 - 1s - loss: 0.0928 - accuracy: 1.0000 - val_loss: 0.2049 - val_accuracy: 1.0000 - 943ms/epoch - 236ms/step\n",
            "Epoch 91/200\n",
            "4/4 - 1s - loss: 0.1675 - accuracy: 0.9531 - val_loss: 0.1998 - val_accuracy: 1.0000 - 964ms/epoch - 241ms/step\n",
            "Epoch 92/200\n",
            "4/4 - 1s - loss: 0.0824 - accuracy: 1.0000 - val_loss: 0.1953 - val_accuracy: 1.0000 - 948ms/epoch - 237ms/step\n",
            "Epoch 93/200\n",
            "4/4 - 1s - loss: 0.1046 - accuracy: 0.9688 - val_loss: 0.1973 - val_accuracy: 1.0000 - 959ms/epoch - 240ms/step\n",
            "Epoch 94/200\n",
            "4/4 - 1s - loss: 0.1498 - accuracy: 0.9688 - val_loss: 0.1985 - val_accuracy: 1.0000 - 1s/epoch - 300ms/step\n",
            "Epoch 95/200\n",
            "4/4 - 1s - loss: 0.1580 - accuracy: 0.9688 - val_loss: 0.1959 - val_accuracy: 1.0000 - 1s/epoch - 258ms/step\n",
            "Epoch 96/200\n",
            "4/4 - 1s - loss: 0.1196 - accuracy: 0.9844 - val_loss: 0.1957 - val_accuracy: 1.0000 - 947ms/epoch - 237ms/step\n",
            "Epoch 97/200\n",
            "4/4 - 1s - loss: 0.1488 - accuracy: 0.9688 - val_loss: 0.1946 - val_accuracy: 1.0000 - 959ms/epoch - 240ms/step\n",
            "Epoch 98/200\n",
            "4/4 - 1s - loss: 0.1265 - accuracy: 0.9688 - val_loss: 0.1961 - val_accuracy: 1.0000 - 963ms/epoch - 241ms/step\n",
            "Epoch 99/200\n",
            "4/4 - 1s - loss: 0.1192 - accuracy: 0.9531 - val_loss: 0.1914 - val_accuracy: 1.0000 - 964ms/epoch - 241ms/step\n",
            "Epoch 100/200\n",
            "4/4 - 1s - loss: 0.1139 - accuracy: 1.0000 - val_loss: 0.1843 - val_accuracy: 1.0000 - 952ms/epoch - 238ms/step\n",
            "Epoch 101/200\n",
            "4/4 - 1s - loss: 0.1105 - accuracy: 0.9844 - val_loss: 0.1769 - val_accuracy: 1.0000 - 938ms/epoch - 235ms/step\n",
            "Epoch 102/200\n",
            "4/4 - 1s - loss: 0.1204 - accuracy: 0.9844 - val_loss: 0.1649 - val_accuracy: 1.0000 - 935ms/epoch - 234ms/step\n",
            "Epoch 103/200\n",
            "4/4 - 1s - loss: 0.0927 - accuracy: 0.9844 - val_loss: 0.1587 - val_accuracy: 1.0000 - 1s/epoch - 260ms/step\n",
            "Epoch 104/200\n",
            "4/4 - 2s - loss: 0.1541 - accuracy: 0.9531 - val_loss: 0.1586 - val_accuracy: 1.0000 - 2s/epoch - 380ms/step\n",
            "Epoch 105/200\n",
            "4/4 - 1s - loss: 0.0885 - accuracy: 0.9844 - val_loss: 0.1634 - val_accuracy: 1.0000 - 1s/epoch - 294ms/step\n",
            "Epoch 106/200\n",
            "4/4 - 1s - loss: 0.0966 - accuracy: 0.9844 - val_loss: 0.1641 - val_accuracy: 1.0000 - 951ms/epoch - 238ms/step\n",
            "Epoch 107/200\n",
            "4/4 - 1s - loss: 0.1807 - accuracy: 0.9531 - val_loss: 0.1632 - val_accuracy: 1.0000 - 973ms/epoch - 243ms/step\n",
            "Epoch 108/200\n",
            "4/4 - 1s - loss: 0.0687 - accuracy: 1.0000 - val_loss: 0.1572 - val_accuracy: 1.0000 - 944ms/epoch - 236ms/step\n",
            "Epoch 109/200\n",
            "4/4 - 1s - loss: 0.1257 - accuracy: 0.9844 - val_loss: 0.1550 - val_accuracy: 1.0000 - 966ms/epoch - 241ms/step\n",
            "Epoch 110/200\n",
            "4/4 - 1s - loss: 0.1195 - accuracy: 0.9688 - val_loss: 0.1517 - val_accuracy: 1.0000 - 925ms/epoch - 231ms/step\n",
            "Epoch 111/200\n",
            "4/4 - 1s - loss: 0.1387 - accuracy: 0.9844 - val_loss: 0.1532 - val_accuracy: 1.0000 - 945ms/epoch - 236ms/step\n",
            "Epoch 112/200\n",
            "4/4 - 1s - loss: 0.0690 - accuracy: 1.0000 - val_loss: 0.1553 - val_accuracy: 1.0000 - 930ms/epoch - 232ms/step\n",
            "Epoch 113/200\n",
            "4/4 - 1s - loss: 0.1565 - accuracy: 0.9688 - val_loss: 0.1589 - val_accuracy: 1.0000 - 957ms/epoch - 239ms/step\n",
            "Epoch 114/200\n",
            "4/4 - 1s - loss: 0.0681 - accuracy: 1.0000 - val_loss: 0.1642 - val_accuracy: 1.0000 - 1s/epoch - 365ms/step\n",
            "Epoch 115/200\n",
            "4/4 - 1s - loss: 0.0966 - accuracy: 0.9688 - val_loss: 0.1694 - val_accuracy: 1.0000 - 1s/epoch - 277ms/step\n",
            "Epoch 116/200\n",
            "4/4 - 1s - loss: 0.0727 - accuracy: 0.9844 - val_loss: 0.1697 - val_accuracy: 1.0000 - 909ms/epoch - 227ms/step\n",
            "Epoch 117/200\n",
            "4/4 - 1s - loss: 0.1439 - accuracy: 0.9688 - val_loss: 0.1714 - val_accuracy: 1.0000 - 937ms/epoch - 234ms/step\n",
            "Epoch 118/200\n",
            "4/4 - 1s - loss: 0.1034 - accuracy: 0.9688 - val_loss: 0.1612 - val_accuracy: 1.0000 - 947ms/epoch - 237ms/step\n",
            "Epoch 119/200\n",
            "4/4 - 1s - loss: 0.0485 - accuracy: 1.0000 - val_loss: 0.1566 - val_accuracy: 1.0000 - 921ms/epoch - 230ms/step\n",
            "Epoch 120/200\n",
            "4/4 - 1s - loss: 0.0651 - accuracy: 0.9844 - val_loss: 0.1561 - val_accuracy: 1.0000 - 974ms/epoch - 243ms/step\n",
            "Epoch 121/200\n",
            "4/4 - 1s - loss: 0.0793 - accuracy: 0.9844 - val_loss: 0.1553 - val_accuracy: 1.0000 - 961ms/epoch - 240ms/step\n",
            "Epoch 122/200\n",
            "4/4 - 1s - loss: 0.1273 - accuracy: 0.9531 - val_loss: 0.1522 - val_accuracy: 1.0000 - 979ms/epoch - 245ms/step\n",
            "Epoch 123/200\n",
            "4/4 - 1s - loss: 0.0778 - accuracy: 0.9844 - val_loss: 0.1509 - val_accuracy: 1.0000 - 965ms/epoch - 241ms/step\n",
            "Epoch 124/200\n",
            "4/4 - 1s - loss: 0.0672 - accuracy: 0.9844 - val_loss: 0.1523 - val_accuracy: 1.0000 - 1s/epoch - 283ms/step\n",
            "Epoch 125/200\n",
            "4/4 - 2s - loss: 0.0656 - accuracy: 1.0000 - val_loss: 0.1486 - val_accuracy: 1.0000 - 2s/epoch - 378ms/step\n",
            "Epoch 126/200\n",
            "4/4 - 1s - loss: 0.0574 - accuracy: 1.0000 - val_loss: 0.1467 - val_accuracy: 1.0000 - 978ms/epoch - 245ms/step\n",
            "Epoch 127/200\n",
            "4/4 - 1s - loss: 0.0585 - accuracy: 0.9844 - val_loss: 0.1416 - val_accuracy: 1.0000 - 958ms/epoch - 239ms/step\n",
            "Epoch 128/200\n",
            "4/4 - 1s - loss: 0.0601 - accuracy: 1.0000 - val_loss: 0.1346 - val_accuracy: 1.0000 - 979ms/epoch - 245ms/step\n",
            "Epoch 129/200\n",
            "4/4 - 1s - loss: 0.0646 - accuracy: 1.0000 - val_loss: 0.1297 - val_accuracy: 1.0000 - 994ms/epoch - 248ms/step\n",
            "Epoch 130/200\n",
            "4/4 - 1s - loss: 0.1171 - accuracy: 0.9844 - val_loss: 0.1242 - val_accuracy: 1.0000 - 971ms/epoch - 243ms/step\n",
            "Epoch 131/200\n",
            "4/4 - 1s - loss: 0.0980 - accuracy: 0.9531 - val_loss: 0.1212 - val_accuracy: 1.0000 - 967ms/epoch - 242ms/step\n",
            "Epoch 132/200\n",
            "4/4 - 1s - loss: 0.0606 - accuracy: 1.0000 - val_loss: 0.1193 - val_accuracy: 1.0000 - 974ms/epoch - 243ms/step\n",
            "Epoch 133/200\n",
            "4/4 - 1s - loss: 0.0731 - accuracy: 1.0000 - val_loss: 0.1173 - val_accuracy: 1.0000 - 976ms/epoch - 244ms/step\n",
            "Epoch 134/200\n",
            "4/4 - 1s - loss: 0.0916 - accuracy: 0.9844 - val_loss: 0.1148 - val_accuracy: 1.0000 - 952ms/epoch - 238ms/step\n",
            "Epoch 135/200\n",
            "4/4 - 1s - loss: 0.0857 - accuracy: 1.0000 - val_loss: 0.1101 - val_accuracy: 1.0000 - 1s/epoch - 337ms/step\n",
            "Epoch 136/200\n",
            "4/4 - 1s - loss: 0.0979 - accuracy: 0.9844 - val_loss: 0.1064 - val_accuracy: 1.0000 - 1s/epoch - 374ms/step\n",
            "Epoch 137/200\n",
            "4/4 - 1s - loss: 0.0362 - accuracy: 1.0000 - val_loss: 0.1036 - val_accuracy: 1.0000 - 978ms/epoch - 245ms/step\n",
            "Epoch 138/200\n",
            "4/4 - 1s - loss: 0.0791 - accuracy: 1.0000 - val_loss: 0.0981 - val_accuracy: 1.0000 - 979ms/epoch - 245ms/step\n",
            "Epoch 139/200\n",
            "4/4 - 1s - loss: 0.0934 - accuracy: 0.9688 - val_loss: 0.0984 - val_accuracy: 1.0000 - 994ms/epoch - 249ms/step\n",
            "Epoch 140/200\n",
            "4/4 - 1s - loss: 0.0568 - accuracy: 1.0000 - val_loss: 0.1000 - val_accuracy: 1.0000 - 960ms/epoch - 240ms/step\n",
            "Epoch 141/200\n",
            "4/4 - 1s - loss: 0.0671 - accuracy: 1.0000 - val_loss: 0.0951 - val_accuracy: 1.0000 - 970ms/epoch - 242ms/step\n",
            "Epoch 142/200\n",
            "4/4 - 1s - loss: 0.1068 - accuracy: 0.9844 - val_loss: 0.0879 - val_accuracy: 1.0000 - 1s/epoch - 345ms/step\n",
            "Epoch 143/200\n",
            "4/4 - 1s - loss: 0.0930 - accuracy: 1.0000 - val_loss: 0.0834 - val_accuracy: 1.0000 - 1s/epoch - 298ms/step\n",
            "Epoch 144/200\n",
            "4/4 - 1s - loss: 0.0398 - accuracy: 1.0000 - val_loss: 0.0803 - val_accuracy: 1.0000 - 965ms/epoch - 241ms/step\n",
            "Epoch 145/200\n",
            "4/4 - 2s - loss: 0.0447 - accuracy: 0.9844 - val_loss: 0.0814 - val_accuracy: 1.0000 - 2s/epoch - 381ms/step\n",
            "Epoch 146/200\n",
            "4/4 - 1s - loss: 0.0494 - accuracy: 1.0000 - val_loss: 0.0805 - val_accuracy: 1.0000 - 1s/epoch - 250ms/step\n",
            "Epoch 147/200\n",
            "4/4 - 1s - loss: 0.0390 - accuracy: 1.0000 - val_loss: 0.0791 - val_accuracy: 1.0000 - 978ms/epoch - 244ms/step\n",
            "Epoch 148/200\n",
            "4/4 - 1s - loss: 0.0919 - accuracy: 0.9844 - val_loss: 0.0767 - val_accuracy: 1.0000 - 993ms/epoch - 248ms/step\n",
            "Epoch 149/200\n",
            "4/4 - 1s - loss: 0.0333 - accuracy: 1.0000 - val_loss: 0.0728 - val_accuracy: 1.0000 - 937ms/epoch - 234ms/step\n",
            "Epoch 150/200\n",
            "4/4 - 1s - loss: 0.0591 - accuracy: 0.9844 - val_loss: 0.0709 - val_accuracy: 1.0000 - 949ms/epoch - 237ms/step\n",
            "Epoch 151/200\n",
            "4/4 - 1s - loss: 0.0320 - accuracy: 1.0000 - val_loss: 0.0709 - val_accuracy: 1.0000 - 946ms/epoch - 237ms/step\n",
            "Epoch 152/200\n",
            "4/4 - 1s - loss: 0.0362 - accuracy: 1.0000 - val_loss: 0.0701 - val_accuracy: 1.0000 - 1s/epoch - 351ms/step\n",
            "Epoch 153/200\n",
            "4/4 - 1s - loss: 0.0599 - accuracy: 1.0000 - val_loss: 0.0687 - val_accuracy: 1.0000 - 1s/epoch - 295ms/step\n",
            "Epoch 154/200\n",
            "4/4 - 2s - loss: 0.0337 - accuracy: 1.0000 - val_loss: 0.0676 - val_accuracy: 1.0000 - 2s/epoch - 378ms/step\n",
            "Epoch 155/200\n",
            "4/4 - 1s - loss: 0.0745 - accuracy: 1.0000 - val_loss: 0.0670 - val_accuracy: 1.0000 - 993ms/epoch - 248ms/step\n",
            "Epoch 156/200\n",
            "4/4 - 1s - loss: 0.0444 - accuracy: 1.0000 - val_loss: 0.0683 - val_accuracy: 1.0000 - 928ms/epoch - 232ms/step\n",
            "Epoch 157/200\n",
            "4/4 - 1s - loss: 0.0765 - accuracy: 0.9844 - val_loss: 0.0687 - val_accuracy: 1.0000 - 996ms/epoch - 249ms/step\n",
            "Epoch 158/200\n",
            "4/4 - 1s - loss: 0.0728 - accuracy: 0.9844 - val_loss: 0.0659 - val_accuracy: 1.0000 - 925ms/epoch - 231ms/step\n",
            "Epoch 159/200\n",
            "4/4 - 1s - loss: 0.0706 - accuracy: 0.9688 - val_loss: 0.0604 - val_accuracy: 1.0000 - 952ms/epoch - 238ms/step\n",
            "Epoch 160/200\n",
            "4/4 - 1s - loss: 0.0326 - accuracy: 1.0000 - val_loss: 0.0567 - val_accuracy: 1.0000 - 960ms/epoch - 240ms/step\n",
            "Epoch 161/200\n",
            "4/4 - 1s - loss: 0.0546 - accuracy: 0.9844 - val_loss: 0.0526 - val_accuracy: 1.0000 - 931ms/epoch - 233ms/step\n",
            "Epoch 162/200\n",
            "4/4 - 1s - loss: 0.0810 - accuracy: 0.9844 - val_loss: 0.0481 - val_accuracy: 1.0000 - 962ms/epoch - 240ms/step\n",
            "Epoch 163/200\n",
            "4/4 - 1s - loss: 0.0818 - accuracy: 0.9688 - val_loss: 0.0470 - val_accuracy: 1.0000 - 1s/epoch - 305ms/step\n",
            "Epoch 164/200\n",
            "4/4 - 1s - loss: 0.0738 - accuracy: 0.9844 - val_loss: 0.0442 - val_accuracy: 1.0000 - 1s/epoch - 260ms/step\n",
            "Epoch 165/200\n",
            "4/4 - 1s - loss: 0.0818 - accuracy: 0.9688 - val_loss: 0.0405 - val_accuracy: 1.0000 - 957ms/epoch - 239ms/step\n",
            "Epoch 166/200\n",
            "4/4 - 1s - loss: 0.0454 - accuracy: 1.0000 - val_loss: 0.0371 - val_accuracy: 1.0000 - 970ms/epoch - 242ms/step\n",
            "Epoch 167/200\n",
            "4/4 - 1s - loss: 0.0578 - accuracy: 0.9844 - val_loss: 0.0360 - val_accuracy: 1.0000 - 1s/epoch - 251ms/step\n",
            "Epoch 168/200\n",
            "4/4 - 1s - loss: 0.0768 - accuracy: 0.9844 - val_loss: 0.0353 - val_accuracy: 1.0000 - 979ms/epoch - 245ms/step\n",
            "Epoch 169/200\n",
            "4/4 - 1s - loss: 0.0506 - accuracy: 1.0000 - val_loss: 0.0338 - val_accuracy: 1.0000 - 964ms/epoch - 241ms/step\n",
            "Epoch 170/200\n",
            "4/4 - 1s - loss: 0.0435 - accuracy: 1.0000 - val_loss: 0.0323 - val_accuracy: 1.0000 - 986ms/epoch - 246ms/step\n",
            "Epoch 171/200\n",
            "4/4 - 1s - loss: 0.0719 - accuracy: 0.9688 - val_loss: 0.0309 - val_accuracy: 1.0000 - 953ms/epoch - 238ms/step\n",
            "Epoch 172/200\n",
            "4/4 - 1s - loss: 0.0914 - accuracy: 0.9688 - val_loss: 0.0301 - val_accuracy: 1.0000 - 1s/epoch - 254ms/step\n",
            "Epoch 173/200\n",
            "4/4 - 2s - loss: 0.0342 - accuracy: 1.0000 - val_loss: 0.0284 - val_accuracy: 1.0000 - 2s/epoch - 395ms/step\n",
            "Epoch 174/200\n",
            "4/4 - 1s - loss: 0.0998 - accuracy: 0.9688 - val_loss: 0.0282 - val_accuracy: 1.0000 - 991ms/epoch - 248ms/step\n",
            "Epoch 175/200\n",
            "4/4 - 1s - loss: 0.0447 - accuracy: 1.0000 - val_loss: 0.0279 - val_accuracy: 1.0000 - 996ms/epoch - 249ms/step\n",
            "Epoch 176/200\n",
            "4/4 - 1s - loss: 0.0823 - accuracy: 0.9688 - val_loss: 0.0266 - val_accuracy: 1.0000 - 966ms/epoch - 241ms/step\n",
            "Epoch 177/200\n",
            "4/4 - 1s - loss: 0.0585 - accuracy: 1.0000 - val_loss: 0.0255 - val_accuracy: 1.0000 - 977ms/epoch - 244ms/step\n",
            "Epoch 178/200\n",
            "4/4 - 1s - loss: 0.0168 - accuracy: 1.0000 - val_loss: 0.0249 - val_accuracy: 1.0000 - 959ms/epoch - 240ms/step\n",
            "Epoch 179/200\n",
            "4/4 - 1s - loss: 0.0374 - accuracy: 1.0000 - val_loss: 0.0244 - val_accuracy: 1.0000 - 942ms/epoch - 235ms/step\n",
            "Epoch 180/200\n",
            "4/4 - 1s - loss: 0.0612 - accuracy: 1.0000 - val_loss: 0.0245 - val_accuracy: 1.0000 - 970ms/epoch - 243ms/step\n",
            "Epoch 181/200\n",
            "4/4 - 1s - loss: 0.0399 - accuracy: 1.0000 - val_loss: 0.0244 - val_accuracy: 1.0000 - 954ms/epoch - 239ms/step\n",
            "Epoch 182/200\n",
            "4/4 - 1s - loss: 0.0722 - accuracy: 0.9844 - val_loss: 0.0241 - val_accuracy: 1.0000 - 1s/epoch - 344ms/step\n",
            "Epoch 183/200\n",
            "4/4 - 1s - loss: 0.0353 - accuracy: 1.0000 - val_loss: 0.0236 - val_accuracy: 1.0000 - 1s/epoch - 370ms/step\n",
            "Epoch 184/200\n",
            "4/4 - 1s - loss: 0.0891 - accuracy: 0.9844 - val_loss: 0.0233 - val_accuracy: 1.0000 - 1s/epoch - 251ms/step\n",
            "Epoch 185/200\n",
            "4/4 - 1s - loss: 0.0770 - accuracy: 0.9844 - val_loss: 0.0229 - val_accuracy: 1.0000 - 973ms/epoch - 243ms/step\n",
            "Epoch 186/200\n",
            "4/4 - 1s - loss: 0.0426 - accuracy: 0.9844 - val_loss: 0.0217 - val_accuracy: 1.0000 - 1s/epoch - 252ms/step\n",
            "Epoch 187/200\n",
            "4/4 - 1s - loss: 0.0643 - accuracy: 0.9688 - val_loss: 0.0209 - val_accuracy: 1.0000 - 974ms/epoch - 244ms/step\n",
            "Epoch 188/200\n",
            "4/4 - 1s - loss: 0.0541 - accuracy: 1.0000 - val_loss: 0.0210 - val_accuracy: 1.0000 - 969ms/epoch - 242ms/step\n",
            "Epoch 189/200\n",
            "4/4 - 1s - loss: 0.0348 - accuracy: 1.0000 - val_loss: 0.0205 - val_accuracy: 1.0000 - 961ms/epoch - 240ms/step\n",
            "Epoch 190/200\n",
            "4/4 - 1s - loss: 0.0909 - accuracy: 0.9844 - val_loss: 0.0200 - val_accuracy: 1.0000 - 978ms/epoch - 244ms/step\n",
            "Epoch 191/200\n",
            "4/4 - 1s - loss: 0.0438 - accuracy: 1.0000 - val_loss: 0.0194 - val_accuracy: 1.0000 - 1s/epoch - 297ms/step\n",
            "Epoch 192/200\n",
            "4/4 - 2s - loss: 0.0824 - accuracy: 0.9688 - val_loss: 0.0188 - val_accuracy: 1.0000 - 2s/epoch - 400ms/step\n",
            "Epoch 193/200\n",
            "4/4 - 1s - loss: 0.0746 - accuracy: 0.9844 - val_loss: 0.0193 - val_accuracy: 1.0000 - 1s/epoch - 258ms/step\n",
            "Epoch 194/200\n",
            "4/4 - 1s - loss: 0.0422 - accuracy: 1.0000 - val_loss: 0.0218 - val_accuracy: 1.0000 - 993ms/epoch - 248ms/step\n",
            "Epoch 195/200\n",
            "4/4 - 1s - loss: 0.0809 - accuracy: 1.0000 - val_loss: 0.0252 - val_accuracy: 1.0000 - 949ms/epoch - 237ms/step\n",
            "Epoch 196/200\n",
            "4/4 - 1s - loss: 0.0594 - accuracy: 0.9844 - val_loss: 0.0266 - val_accuracy: 1.0000 - 967ms/epoch - 242ms/step\n",
            "Epoch 197/200\n",
            "4/4 - 1s - loss: 0.0447 - accuracy: 1.0000 - val_loss: 0.0281 - val_accuracy: 1.0000 - 939ms/epoch - 235ms/step\n",
            "Epoch 198/200\n",
            "4/4 - 1s - loss: 0.0869 - accuracy: 0.9688 - val_loss: 0.0297 - val_accuracy: 1.0000 - 978ms/epoch - 245ms/step\n",
            "Epoch 199/200\n",
            "4/4 - 1s - loss: 0.0854 - accuracy: 0.9844 - val_loss: 0.0311 - val_accuracy: 1.0000 - 934ms/epoch - 234ms/step\n",
            "Epoch 200/200\n",
            "4/4 - 1s - loss: 0.0590 - accuracy: 0.9844 - val_loss: 0.0321 - val_accuracy: 1.0000 - 1s/epoch - 270ms/step\n"
          ]
        }
      ],
      "source": [
        "#training\n",
        "history = model.fit(x=train_ds_augmentend,\n",
        "            steps_per_epoch=len(train_ds),\n",
        "            validation_data=val_ds,\n",
        "            validation_steps=len(val_ds),\n",
        "            epochs=200,\n",
        "            verbose=2\n",
        "           )\n",
        "            #tf: 6m 20s  callbacks=[tensorboard_callback]\n",
        "            #ohnetf: 3m45s\n"
      ]
    },
    {
      "cell_type": "code",
      "execution_count": 13,
      "metadata": {
        "colab": {
          "base_uri": "https://localhost:8080/",
          "height": 300
        },
        "id": "EtMrUEiW_e_3",
        "outputId": "2e43f835-edec-4c14-918f-9f220ed843c5"
      },
      "outputs": [
        {
          "data": {
            "image/png": "[encoded data removed]",
            "text/plain": [
              "<Figure size 1000x250 with 2 Axes>"
            ]
          },
          "metadata": {},
          "output_type": "display_data"
        }
      ],
      "source": [
        "#plot training history\n",
        "plt.style.use(\"ggplot\")\n",
        "fig,axs = plt.subplots(1,2)\n",
        "\n",
        "fig.set_figheight(2.5)\n",
        "fig.set_figwidth(10)\n",
        "\n",
        "axs[0].plot(history.history['accuracy'])\n",
        "axs[0].plot(history.history['val_accuracy'])\n",
        "axs[0].set_title('model accuracy')\n",
        "axs[0].set_ylabel('accuracy')\n",
        "axs[0].set_xlabel('epoch')\n",
        "axs[0].legend(['train', 'val'], loc='lower right')\n",
        "\n",
        "axs[1].plot(history.history['loss'])\n",
        "axs[1].plot(history.history['val_loss'])\n",
        "axs[1].set_title('model loss')\n",
        "axs[1].set_ylabel('loss')\n",
        "axs[1].set_xlabel('epoch')\n",
        "axs[1].legend(['train', 'val'], loc='upper right')\n",
        "\n",
        "plt.show()"
      ]
    },
    {
      "cell_type": "code",
      "execution_count": 15,
      "metadata": {
        "colab": {
          "base_uri": "https://localhost:8080/"
        },
        "id": "ONnvGEVs_e_4",
        "outputId": "a34644f0-e62c-40cb-ef8b-bddd2e69ad77"
      },
      "outputs": [
        {
          "name": "stderr",
          "output_type": "stream",
          "text": [
            "WARNING:absl:Found untraced functions such as _jit_compiled_convolution_op, _jit_compiled_convolution_op, _jit_compiled_convolution_op, _jit_compiled_convolution_op, _jit_compiled_convolution_op while saving (showing 5 of 27). These functions will not be directly callable after loading.\n"
          ]
        },
        {
          "name": "stdout",
          "output_type": "stream",
          "text": [
            "model saved to models\n"
          ]
        }
      ],
      "source": [
        "#save model\n",
        "model_save_path = \"trained_models\"\n",
        "\n",
        "if not model_save_path == \"\":\n",
        "    keras.models.save_model(model,model_save_path)\n",
        "    print(\"model saved to\", model_save_path)"
      ]
    },
    {
      "cell_type": "code",
      "execution_count": null,
      "metadata": {
        "id": "dtOODAtz_e_4"
      },
      "outputs": [],
      "source": [
        "#load previously trained model\n",
        "model_load_path = model_save_path\n",
        "\n",
        "if not model_load_path == \"\":\n",
        "    model = keras.models.load_model(model_load_path,compile=False)\n",
        "    model.compile()"
      ]
    },
    {
      "cell_type": "code",
      "execution_count": 19,
      "metadata": {
        "colab": {
          "base_uri": "https://localhost:8080/"
        },
        "id": "4qgaAwbq_e_4",
        "outputId": "fceac25f-3b5f-4217-b142-7a7c1935f663"
      },
      "outputs": [
        {
          "name": "stdout",
          "output_type": "stream",
          "text": [
            "80/80 - 1s - 900ms/epoch - 11ms/step\n"
          ]
        }
      ],
      "source": [
        "#do prediction on real dataset\n",
        "prediction_ds = test_ds #dataset to perform prediction on\n",
        "\n",
        "test_predictions = model.predict(x=prediction_ds, steps=len(prediction_ds), verbose=2)\n",
        "predicted_labels = test_predictions.argmax(axis=1) #get labes for predictions\n",
        "\n",
        "#get true labels from real dataset\n",
        "ds_true_labes = tf.concat([y for x, y in prediction_ds], axis=0)\n",
        "ds_true_labes = np.argmax(ds_true_labes, axis=1)"
      ]
    },
    {
      "cell_type": "code",
      "execution_count": 20,
      "metadata": {
        "colab": {
          "base_uri": "https://localhost:8080/",
          "height": 459
        },
        "id": "83At0smg_e_4",
        "outputId": "3821bf4c-19ab-42ad-86ab-ac800fa14aa9"
      },
      "outputs": [
        {
          "data": {
            "image/png": "[encoded data removed]",
            "text/plain": [
              "<Figure size 640x480 with 2 Axes>"
            ]
          },
          "metadata": {},
          "output_type": "display_data"
        }
      ],
      "source": [
        "#calculate confusion matrix\n",
        "cm = confusion_matrix(y_true=ds_true_labes, y_pred=predicted_labels)\n",
        "\n",
        "#plot confusion matrix\n",
        "cm_plot = ConfusionMatrixDisplay(confusion_matrix = cm,display_labels = dataset_labels)\n",
        "cm_plot.plot(cmap= plt.cm.Blues)\n",
        "plt.grid(None)"
      ]
    }
  ],
  "metadata": {
    "accelerator": "GPU",
    "colab": {
      "gpuType": "T4",
      "provenance": []
    },
    "kernelspec": {
      "display_name": "Python 3",
      "name": "python3"
    },
    "language_info": {
      "codemirror_mode": {
        "name": "ipython",
        "version": 3
      },
      "file_extension": ".py",
      "mimetype": "text/x-python",
      "name": "python",
      "nbconvert_exporter": "python",
      "pygments_lexer": "ipython3",
      "version": "3.10.8"
    },
    "orig_nbformat": 4,
    "vscode": {
      "interpreter": {
        "hash": "2089694cd97b06a8c1e749cea34ae9e2c716ec386c0ef8829d89575f5f3f420d"
      }
    }
  },
  "nbformat": 4,
  "nbformat_minor": 0
}
