{
 "cells": [
  {
   "cell_type": "code",
   "execution_count": null,
   "metadata": {},
   "outputs": [],
   "source": [
    "import matplotlib.pyplot as plt\n",
    "import numpy as np\n",
    "from tkinter import filedialog as fd\n",
    "import os\n",
    "import datetime\n",
    "\n",
    "\n",
    "import tensorflow as tf\n",
    "from tensorflow import keras\n",
    "from keras import layers\n",
    "\n",
    "from sklearn.metrics import confusion_matrix\n",
    "from sklearn.metrics import ConfusionMatrixDisplay\n",
    "\n",
    "print(\"keras:\",keras.__version__)\n",
    "print(\"tf:\",tf.__version__)"
   ]
  },
  {
   "cell_type": "code",
   "execution_count": null,
   "metadata": {},
   "outputs": [],
   "source": [
    "#init Tensorboard\n",
    "%load_ext tensorboard\n",
    "log_dir = os.path.join(os.getcwd(),\"logs\",\"fit\",datetime.datetime.now().strftime(\"%Y%m%d-%H%M%S\"))\n",
    "tensorboard_callback = tf.keras.callbacks.TensorBoard(log_dir=log_dir, histogram_freq=1)\n"
   ]
  },
  {
   "cell_type": "code",
   "execution_count": null,
   "metadata": {},
   "outputs": [],
   "source": [
    "#function to plot 9 samples from dataset\n",
    "def plot_samples(dataset,title):\n",
    "    plt.figure(figsize=(5, 5))\n",
    "    plt.suptitle(title)\n",
    "    for images, labels in dataset.take(1):\n",
    "        for i in range(9):\n",
    "            ax = plt.subplot(3, 3, i + 1)\n",
    "            plt.imshow(images[i].numpy().astype(\"uint8\")) \n",
    "            plt.title(int(np.argmax(labels[i])))\n",
    "            plt.axis(\"off\")"
   ]
  },
  {
   "cell_type": "code",
   "execution_count": null,
   "metadata": {},
   "outputs": [],
   "source": [
    "#standard paths\n",
    "synthetic_ds_path = \"example_data/dataset/Rk2i_synthetic/\"\n",
    "real_ds_path = \"example_data/dataset/Rk2i_real/\""
   ]
  },
  {
   "cell_type": "code",
   "execution_count": null,
   "metadata": {},
   "outputs": [],
   "source": [
    "#set up dataset paths\n",
    "synthetic_ds_path = fd.askdirectory(title=\"synthetic dataset:\", initialdir=os.getcwd())\n",
    "real_ds_path = fd.askdirectory(title=\"real dataset:\", initialdir=os.getcwd())\n",
    "\n",
    "print(synthetic_ds_path)\n",
    "print(real_ds_path)"
   ]
  },
  {
   "cell_type": "code",
   "execution_count": null,
   "metadata": {},
   "outputs": [],
   "source": [
    "#load images into batched dataset objects\n",
    "\n",
    "#dataset parameters\n",
    "img_height = 224\n",
    "img_width = 224\n",
    "validation_split = 0.2\n",
    "\n",
    "train_batch_size = 20\n",
    "val_batch_size = 5\n",
    "test_batch_size = 1\n",
    "\n",
    "#synthetic dataset for training and validation\n",
    "train_ds = keras.preprocessing.image_dataset_from_directory(\n",
    "    directory=synthetic_ds_path,\n",
    "    labels='inferred',\n",
    "    label_mode='categorical',\n",
    "    batch_size=train_batch_size,\n",
    "    validation_split = validation_split,\n",
    "    subset = 'training',\n",
    "    seed = 10,\n",
    "    color_mode = 'rgb',\n",
    "    #shuffle = False,\n",
    "    image_size=(img_height, img_width))\n",
    "\n",
    "val_ds = keras.preprocessing.image_dataset_from_directory(\n",
    "    directory=synthetic_ds_path,\n",
    "    labels='inferred',\n",
    "    label_mode='categorical',\n",
    "    batch_size=val_batch_size,\n",
    "    validation_split = validation_split,\n",
    "    subset = 'validation',\n",
    "    seed = 10,\n",
    "    color_mode = 'rgb',\n",
    "    #shuffle = False,\n",
    "    image_size=(img_height, img_width))\n",
    "\n",
    "#real dataset for testing trained model\n",
    "test_ds = keras.preprocessing.image_dataset_from_directory(\n",
    "    directory=real_ds_path,\n",
    "    labels='inferred',\n",
    "    label_mode='categorical',\n",
    "    batch_size=test_batch_size,\n",
    "    color_mode = 'rgb',\n",
    "    shuffle = False,\n",
    "    image_size=(img_height, img_width))\n",
    "\n",
    "#plot_samples(train_ds,\"pre-augmentation\")"
   ]
  },
  {
   "cell_type": "code",
   "execution_count": null,
   "metadata": {},
   "outputs": [],
   "source": [
    "#get number of classes for output layer size\n",
    "dataset_labels = train_ds.class_names\n",
    "num_classes = len(dataset_labels)"
   ]
  },
  {
   "cell_type": "code",
   "execution_count": null,
   "metadata": {},
   "outputs": [],
   "source": [
    "\n",
    "train_ds = train_ds.prefetch(buffer_size=tf.data.experimental.AUTOTUNE)\n",
    "test_ds = test_ds.prefetch(buffer_size=tf.data.experimental.AUTOTUNE)\n",
    "val_ds = val_ds.prefetch(buffer_size=tf.data.experimental.AUTOTUNE)"
   ]
  },
  {
   "cell_type": "code",
   "execution_count": null,
   "metadata": {},
   "outputs": [],
   "source": [
    "#augmentations\n",
    "#augmentations can also be added as layer to the model, it is then performed by the GPU\n",
    "\n",
    "#define augmentation set\n",
    "data_augmentation = keras.Sequential([\n",
    "        layers.RandomRotation(0.025),\n",
    "        layers.RandomBrightness(0.4),\n",
    "        layers.RandomContrast(0.2),\n",
    "        layers.RandomTranslation(0.1,0.1),\n",
    "        layers.RandomZoom(0.1)\n",
    "        ])\n",
    "\n",
    "#apply augmentation set to training dataset\n",
    "train_ds_augmentend = train_ds.map(\n",
    "    lambda img, label: (data_augmentation(img), label),\n",
    "    num_parallel_calls=tf.data.AUTOTUNE)\n",
    "\n",
    "#plot_samples(train_ds_augmentend,\"augmented\")"
   ]
  },
  {
   "cell_type": "code",
   "execution_count": null,
   "metadata": {},
   "outputs": [],
   "source": [
    "normalization_layer = layers.Rescaling(1./255)\n",
    "train_ds_augmentend = train_ds_augmentend.map(lambda x, y: (normalization_layer(x), y))\n",
    "val_ds = val_ds.map(lambda x, y: (normalization_layer(x), y))\n",
    "test_ds = test_ds.map(lambda x, y: (normalization_layer(x), y))\n",
    "\n",
    "#plot_samples(train_ds_augmentend,\"augmented\")"
   ]
  },
  {
   "cell_type": "code",
   "execution_count": null,
   "metadata": {},
   "outputs": [],
   "source": [
    "#load an empty MobileNet model\n",
    "model = keras.applications.mobilenet.MobileNet()\n",
    "\n",
    "#remove last 4 layers (determined in fine tuning)\n",
    "x = model.layers[-5].output\n",
    "\n",
    "#set proper size for last layer\n",
    "x = tf.keras.layers.Reshape(target_shape=(1024,))(x)\n",
    "\n",
    "#add dense-layer as output\n",
    "output = tf.keras.layers.Dense(units=num_classes, activation='softmax')(x)\n",
    "\n",
    "#set input and output layers\n",
    "model = keras.models.Model(inputs=model.input, outputs=output)\n",
    "\n",
    "#compile model, set learning parameters\n",
    "model.compile(optimizer=tf.keras.optimizers.Adam(learning_rate=0.0001), loss='categorical_crossentropy', metrics=['accuracy'])"
   ]
  },
  {
   "cell_type": "code",
   "execution_count": null,
   "metadata": {},
   "outputs": [],
   "source": [
    "#training\n",
    "history = model.fit(x=train_ds_augmentend,\n",
    "            steps_per_epoch=len(train_ds),\n",
    "            validation_data=val_ds,\n",
    "            validation_steps=len(val_ds),\n",
    "            epochs=150,\n",
    "            verbose=2,\n",
    "            callbacks=[tensorboard_callback]\n",
    "           )\n",
    "            #tf: 6m 20s  callbacks=[tensorboard_callback]\n",
    "            #ohnetf: 3m45s\n"
   ]
  },
  {
   "cell_type": "code",
   "execution_count": null,
   "metadata": {},
   "outputs": [],
   "source": [
    "#plot training history\n",
    "plt.style.use(\"ggplot\")\n",
    "fig,axs = plt.subplots(1,2)\n",
    "\n",
    "fig.set_figheight(2.5)\n",
    "fig.set_figwidth(10)\n",
    "\n",
    "axs[0].plot(history.history['accuracy'])\n",
    "axs[0].plot(history.history['val_accuracy'])\n",
    "axs[0].set_title('model accuracy')\n",
    "axs[0].set_ylabel('accuracy')\n",
    "axs[0].set_xlabel('epoch')\n",
    "axs[0].legend(['train', 'val'], loc='lower right')\n",
    "\n",
    "axs[1].plot(history.history['loss'])\n",
    "axs[1].plot(history.history['val_loss'])\n",
    "axs[1].set_title('model loss')\n",
    "axs[1].set_ylabel('loss')\n",
    "axs[1].set_xlabel('epoch')\n",
    "axs[1].legend(['train', 'val'], loc='upper right')\n",
    "\n",
    "plt.show()"
   ]
  },
  {
   "cell_type": "code",
   "execution_count": null,
   "metadata": {},
   "outputs": [],
   "source": [
    "#save model\n",
    "model_save_path = fd.askdirectory(title=\"save model to:\", initialdir=os.getcwd())\n",
    "\n",
    "if not model_save_path == \"\":\n",
    "    keras.models.save_model(model,model_save_path)\n",
    "    print(\"model saved to\", model_save_path)"
   ]
  },
  {
   "cell_type": "code",
   "execution_count": null,
   "metadata": {},
   "outputs": [],
   "source": [
    "#load previously trained model\n",
    "load_model_path = fd.askdirectory(title=\"load model from:\", initialdir=os.getcwd())\n",
    "\n",
    "if not load_model_path == \"\":\n",
    "    model = keras.models.load_model(load_model_path,compile=False) \n",
    "    model.compile()"
   ]
  },
  {
   "cell_type": "code",
   "execution_count": null,
   "metadata": {},
   "outputs": [],
   "source": [
    "#do prediction on real dataset\n",
    "prediction_ds = test_ds #dataset to perform prediction on\n",
    "\n",
    "test_predictions = model.predict(x=prediction_ds, steps=len(prediction_ds), verbose=2)\n",
    "predicted_labels = test_predictions.argmax(axis=1) #get labes for predictions\n",
    "\n",
    "#get true labels from real dataset\n",
    "ds_true_labes = tf.concat([y for x, y in prediction_ds], axis=0)\n",
    "ds_true_labes = np.argmax(ds_true_labes, axis=1)"
   ]
  },
  {
   "cell_type": "code",
   "execution_count": null,
   "metadata": {},
   "outputs": [],
   "source": [
    "#calculate confusion matrix\n",
    "cm = confusion_matrix(y_true=ds_true_labes, y_pred=predicted_labels)\n",
    "\n",
    "#plot confusion matrix\n",
    "cm_plot = ConfusionMatrixDisplay(confusion_matrix = cm,display_labels = dataset_labels)\n",
    "cm_plot.plot(cmap= plt.cm.YlGn)\n",
    "plt.grid(None)"
   ]
  }
 ],
 "metadata": {
  "kernelspec": {
   "display_name": "Python 3.10.8 64-bit",
   "language": "python",
   "name": "python3"
  },
  "language_info": {
   "codemirror_mode": {
    "name": "ipython",
    "version": 3
   },
   "file_extension": ".py",
   "mimetype": "text/x-python",
   "name": "python",
   "nbconvert_exporter": "python",
   "pygments_lexer": "ipython3",
   "version": "3.10.8"
  },
  "orig_nbformat": 4,
  "vscode": {
   "interpreter": {
    "hash": "2089694cd97b06a8c1e749cea34ae9e2c716ec386c0ef8829d89575f5f3f420d"
   }
  }
 },
 "nbformat": 4,
 "nbformat_minor": 2
}
